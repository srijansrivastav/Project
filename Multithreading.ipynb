{
 "cells": [
  {
   "cell_type": "code",
   "execution_count": 1,
   "id": "a3b7f0ae",
   "metadata": {},
   "outputs": [],
   "source": [
    "from time import sleep, perf_counter"
   ]
  },
  {
   "cell_type": "code",
   "execution_count": 2,
   "id": "c087a1e0",
   "metadata": {},
   "outputs": [],
   "source": [
    "def task():\n",
    "    print('Starting a task...')\n",
    "    sleep(1)\n",
    "    print('done')"
   ]
  },
  {
   "cell_type": "code",
   "execution_count": 3,
   "id": "3a8bbe86",
   "metadata": {},
   "outputs": [],
   "source": [
    "def sequential():\n",
    "    start_time = perf_counter()\n",
    "    task()\n",
    "    task()\n",
    "    end_time = perf_counter()\n",
    "    print(f'It took {end_time- start_time: 0.2f} second(s) to complete.')"
   ]
  },
  {
   "cell_type": "code",
   "execution_count": 4,
   "id": "3c7633b4",
   "metadata": {},
   "outputs": [
    {
     "name": "stdout",
     "output_type": "stream",
     "text": [
      "Starting a task...\n",
      "done\n",
      "Starting a task...\n",
      "done\n",
      "It took  2.02 second(s) to complete.\n"
     ]
    }
   ],
   "source": [
    "sequential()"
   ]
  },
  {
   "cell_type": "markdown",
   "id": "0e6be228",
   "metadata": {},
   "source": [
    "<img src=\"https://www.pythontutorial.net/wp-content/uploads/2020/12/Python-Threading-Single-threaded-App.png\"/>"
   ]
  },
  {
   "cell_type": "code",
   "execution_count": 5,
   "id": "0c2b1952",
   "metadata": {},
   "outputs": [],
   "source": [
    "from threading import Thread"
   ]
  },
  {
   "cell_type": "code",
   "execution_count": 6,
   "id": "d17d9000",
   "metadata": {},
   "outputs": [],
   "source": [
    "def parallel():\n",
    "    start_time = perf_counter()\n",
    "\n",
    "    # create two new threads\n",
    "    t1 = Thread(target=task)\n",
    "    t2 = Thread(target=task)\n",
    "\n",
    "    # start the threads\n",
    "    t1.start()\n",
    "    t2.start()\n",
    "    # wait for the threads to complete\n",
    "    t1.join()\n",
    "    t2.join()\n",
    "\n",
    "    end_time = perf_counter()\n",
    "    print(f'It took {end_time- start_time: 0.2f} second(s) to complete.')"
   ]
  },
  {
   "cell_type": "code",
   "execution_count": 7,
   "id": "1696b129",
   "metadata": {},
   "outputs": [
    {
     "name": "stdout",
     "output_type": "stream",
     "text": [
      "Starting a task...\n",
      "Starting a task...\n",
      "donedone\n",
      "\n",
      "It took  1.03 second(s) to complete.\n"
     ]
    }
   ],
   "source": [
    "parallel()"
   ]
  },
  {
   "attachments": {},
   "cell_type": "markdown",
   "id": "e1ec145e",
   "metadata": {},
   "source": [
    "<img src=\"https://www.pythontutorial.net/wp-content/uploads/2020/12/Python-Threading-Multi-threaded-App.png\"/>"
   ]
  },
  {
   "cell_type": "code",
   "execution_count": 8,
   "id": "15b7a7c5",
   "metadata": {},
   "outputs": [],
   "source": [
    "def task(id):\n",
    "    print(f'Starting the task {id}...')\n",
    "    sleep(1)\n",
    "    print(f'The task {id} completed')"
   ]
  },
  {
   "cell_type": "code",
   "execution_count": 10,
   "id": "441f9e98",
   "metadata": {},
   "outputs": [],
   "source": [
    "def parallel_10():\n",
    "    start_time = perf_counter()\n",
    "\n",
    "    # create and start 10 threads\n",
    "    threads = []\n",
    "    for n in range(1, 11):\n",
    "        t = Thread(target=task, args=(n,))\n",
    "        threads.append(t)\n",
    "        t.start()\n",
    "\n",
    "    # wait for the threads to complete\n",
    "    for t in threads:\n",
    "        t.join()\n",
    "\n",
    "    end_time = perf_counter()\n",
    "\n",
    "    print(f'It took {end_time- start_time: 0.2f} second(s) to complete.')"
   ]
  },
  {
   "cell_type": "code",
   "execution_count": 12,
   "id": "0d3750c7",
   "metadata": {},
   "outputs": [
    {
     "name": "stdout",
     "output_type": "stream",
     "text": [
      "Starting the task 1...\n",
      "Starting the task 2...\n",
      "Starting the task 3...\n",
      "Starting the task 4...\n",
      "Starting the task 5...\n",
      "Starting the task 6...\n",
      "Starting the task 7...\n",
      "Starting the task 8...\n",
      "Starting the task 9...\n",
      "Starting the task 10...\n",
      "The task 10 completedThe task 9 completed\n",
      "The task 8 completed\n",
      "The task 7 completed\n",
      "The task 6 completed\n",
      "The task 5 completed\n",
      "The task 4 completed\n",
      "The task 3 completed\n",
      "The task 2 completed\n",
      "The task 1 completed\n",
      "\n",
      "It took  1.02 second(s) to complete.\n"
     ]
    }
   ],
   "source": [
    "parallel_10()"
   ]
  },
  {
   "cell_type": "markdown",
   "id": "5025a2be",
   "metadata": {},
   "source": [
    "<h4>Multiprocessing Pools</h4>"
   ]
  },
  {
   "cell_type": "code",
   "execution_count": 15,
   "id": "e6e90fc5",
   "metadata": {},
   "outputs": [],
   "source": [
    "from multiprocessing.pool import Pool"
   ]
  },
  {
   "cell_type": "code",
   "execution_count": 17,
   "id": "dfb53698",
   "metadata": {},
   "outputs": [
    {
     "name": "stdout",
     "output_type": "stream",
     "text": [
      "Starting the task 1...Starting the task 2...\n",
      "Starting the task 3...\n",
      "Starting the task 4...\n",
      "Starting the task 5...\n",
      "Starting the task 6...\n",
      "Starting the task 7...\n",
      "Starting the task 8...\n",
      "Starting the task 9...\n",
      "Starting the task 10...\n",
      "\n",
      "The task 10 completedThe task 1 completed\n",
      "The task 8 completed\n",
      "The task 6 completed\n",
      "The task 5 completed\n",
      "The task 3 completed\n",
      "The task 2 completed\n",
      "The task 9 completed\n",
      "The task 7 completed\n",
      "\n",
      "The task 4 completed\n"
     ]
    }
   ],
   "source": [
    "pool = Pool.ThreadPool(processes=10)\n",
    "_ = pool.map(task, range(1,11))"
   ]
  },
  {
   "cell_type": "code",
   "execution_count": null,
   "id": "95b8f281",
   "metadata": {},
   "outputs": [],
   "source": []
  }
 ],
 "metadata": {
  "kernelspec": {
   "display_name": "Python 3 (ipykernel)",
   "language": "python",
   "name": "python3"
  },
  "language_info": {
   "codemirror_mode": {
    "name": "ipython",
    "version": 3
   },
   "file_extension": ".py",
   "mimetype": "text/x-python",
   "name": "python",
   "nbconvert_exporter": "python",
   "pygments_lexer": "ipython3",
   "version": "3.9.13"
  }
 },
 "nbformat": 4,
 "nbformat_minor": 5
}
